{
 "cells": [
  {
   "cell_type": "code",
   "execution_count": 77,
   "metadata": {},
   "outputs": [],
   "source": [
    "import numpy as np\n"
   ]
  },
  {
   "cell_type": "code",
   "execution_count": 78,
   "metadata": {},
   "outputs": [],
   "source": [
    "A = np.array([[1, np.sqrt(2)],\n",
    "              [2, 2 * np.sqrt(2)]])\n",
    "right_part = np.array([1, np.sqrt(2)])\n",
    "alpha = 2\n",
    "E = np.eye(2)"
   ]
  },
  {
   "cell_type": "markdown",
   "metadata": {},
   "source": [
    "Первым способом"
   ]
  },
  {
   "cell_type": "code",
   "execution_count": 79,
   "metadata": {},
   "outputs": [],
   "source": [
    "offs_matr = A + alpha * E\n",
    "\n",
    "x_alpha = np.linalg.inv(offs_matr) @ right_part"
   ]
  },
  {
   "cell_type": "code",
   "execution_count": 80,
   "metadata": {},
   "outputs": [
    {
     "name": "stdout",
     "output_type": "stream",
     "text": [
      "[0.24264069 0.19238816]\n"
     ]
    }
   ],
   "source": [
    "print(x_alpha)"
   ]
  },
  {
   "cell_type": "markdown",
   "metadata": {},
   "source": [
    "Вторым способом\n"
   ]
  },
  {
   "cell_type": "code",
   "execution_count": 92,
   "metadata": {},
   "outputs": [
    {
     "name": "stdout",
     "output_type": "stream",
     "text": [
      "[[0.01       0.         1.         1.41421356]\n",
      " [0.         0.01       2.         2.82842712]\n",
      " [1.         2.         1.         0.        ]\n",
      " [1.41421356 2.82842712 0.         1.        ]]\n",
      "[0.25539874 0.36118836]\n"
     ]
    }
   ],
   "source": [
    "r = np.array([2, -1])\n",
    "alpha = 1e-2\n",
    "zero_matr = np.zeros((2,2))\n",
    "expanded_matrix = np.array([[alpha * E, A], [A.T, np.ones((2,2))]])\n",
    "expanded_right = np.array([right_part, np.zeros((2,))])\n",
    "expanded_right = np.array([1, np.sqrt(2), 0, 0])\n",
    "\n",
    "expanded_matrix = np.zeros((4, 4))\n",
    "\n",
    "expanded_matrix[:2, :2] = alpha * E\n",
    "expanded_matrix[:2, 2:] = A\n",
    "expanded_matrix[2:, :2] = A.T\n",
    "expanded_matrix[2:, 2:] = E\n",
    "print(expanded_matrix)\n",
    "\n",
    "z = np.linalg.inv(expanded_matrix) @ expanded_right\n",
    "print(z[2:])"
   ]
  },
  {
   "cell_type": "markdown",
   "metadata": {},
   "source": [
    "Третий способ"
   ]
  },
  {
   "cell_type": "code",
   "execution_count": 110,
   "metadata": {},
   "outputs": [
    {
     "name": "stdout",
     "output_type": "stream",
     "text": [
      "[ 1.11458682 -0.69975856  0.25902755  0.36632027]\n"
     ]
    }
   ],
   "source": [
    "expanded_matrix = np.zeros((4, 4))\n",
    "\n",
    "alpha = 0.1\n",
    "expanded_matrix[:2, :2] = alpha * E\n",
    "expanded_matrix[:2, 2:] = A\n",
    "expanded_matrix[2:, :2] = A.T\n",
    "expanded_matrix[2:, 2:] = E\n",
    "\n",
    "\n",
    "z = np.linalg.inv(expanded_matrix + alpha * np.eye(4)) @ expanded_right\n",
    "print(z)"
   ]
  },
  {
   "cell_type": "markdown",
   "metadata": {},
   "source": [
    "То же самое, но с округлённым f"
   ]
  },
  {
   "cell_type": "code",
   "execution_count": 118,
   "metadata": {},
   "outputs": [],
   "source": [
    "right_part = np.array([1, round(np.sqrt(2), 3)])"
   ]
  },
  {
   "cell_type": "markdown",
   "metadata": {},
   "source": [
    "первым способом"
   ]
  },
  {
   "cell_type": "code",
   "execution_count": 128,
   "metadata": {},
   "outputs": [
    {
     "name": "stdout",
     "output_type": "stream",
     "text": [
      "[0.25946948 0.19338341]\n"
     ]
    }
   ],
   "source": [
    "alpha = 1.8\n",
    "offs_matr = A + alpha * E\n",
    "x_alpha = np.linalg.inv(offs_matr) @ right_part\n",
    "print(x_alpha)"
   ]
  },
  {
   "cell_type": "markdown",
   "metadata": {},
   "source": [
    "через расширенную"
   ]
  },
  {
   "cell_type": "code",
   "execution_count": 130,
   "metadata": {},
   "outputs": [
    {
     "name": "stdout",
     "output_type": "stream",
     "text": [
      "[[0.01       0.         1.         1.41421356]\n",
      " [0.         0.01       2.         2.82842712]\n",
      " [1.         2.         1.         0.        ]\n",
      " [1.41421356 2.82842712 0.         1.        ]]\n",
      "[0.25483656 0.36039332]\n"
     ]
    }
   ],
   "source": [
    "r = np.array([2, -1])\n",
    "alpha = 1e-2\n",
    "zero_matr = np.zeros((2,2))\n",
    "expanded_matrix = np.array([[alpha * E, A], [A.T, np.ones((2,2))]])\n",
    "expanded_right = np.array([right_part, np.zeros((2,))])\n",
    "expanded_right = np.array([1, round(np.sqrt(2), 2), 0, 0])\n",
    "\n",
    "expanded_matrix = np.zeros((4, 4))\n",
    "\n",
    "expanded_matrix[:2, :2] = alpha * E\n",
    "expanded_matrix[:2, 2:] = A\n",
    "expanded_matrix[2:, :2] = A.T\n",
    "expanded_matrix[2:, 2:] = E\n",
    "print(expanded_matrix)\n",
    "\n",
    "z = np.linalg.inv(expanded_matrix) @ expanded_right\n",
    "print(z[2:])"
   ]
  },
  {
   "cell_type": "markdown",
   "metadata": {},
   "source": [
    "Третий способ"
   ]
  },
  {
   "cell_type": "code",
   "execution_count": 131,
   "metadata": {},
   "outputs": [
    {
     "name": "stdout",
     "output_type": "stream",
     "text": [
      "[ 1.12313938 -0.70372124  0.25845737  0.36551392]\n"
     ]
    }
   ],
   "source": [
    "expanded_matrix = np.zeros((4, 4))\n",
    "\n",
    "alpha = 0.1\n",
    "expanded_matrix[:2, :2] = alpha * E\n",
    "expanded_matrix[:2, 2:] = A\n",
    "expanded_matrix[2:, :2] = A.T\n",
    "expanded_matrix[2:, 2:] = E\n",
    "\n",
    "\n",
    "z = np.linalg.inv(expanded_matrix + alpha * np.eye(4)) @ expanded_right\n",
    "print(z)"
   ]
  }
 ],
 "metadata": {
  "kernelspec": {
   "display_name": "base",
   "language": "python",
   "name": "python3"
  },
  "language_info": {
   "codemirror_mode": {
    "name": "ipython",
    "version": 3
   },
   "file_extension": ".py",
   "mimetype": "text/x-python",
   "name": "python",
   "nbconvert_exporter": "python",
   "pygments_lexer": "ipython3",
   "version": "3.10.9"
  }
 },
 "nbformat": 4,
 "nbformat_minor": 2
}
