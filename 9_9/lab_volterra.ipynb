{
 "cells": [
  {
   "cell_type": "code",
   "execution_count": null,
   "metadata": {},
   "outputs": [],
   "source": [
    "import numpy as np\n",
    "import matplotlib.pyplot as plt\n",
    "import scipy.integrate as integrate\n",
    "import volterra"
   ]
  },
  {
   "cell_type": "markdown",
   "metadata": {},
   "source": [
    "Решим уравнение Вольтерры двумя способами: простые итерации и квадратурно\n",
    "Зададим начальные параметры"
   ]
  },
  {
   "cell_type": "code",
   "execution_count": null,
   "metadata": {},
   "outputs": [],
   "source": [
    "x_ax = np.linspace(0,1)\n",
    "\n",
    "#зададим ядро\n",
    "ker = lambda xn, tn : np.exp(xn - tn)\n",
    "kernel = np.zeros((len(x_ax), len(x_ax)))\n",
    "\n",
    "for i in range(len(x_ax)):\n",
    "    for j in range(i + 1):\n",
    "        kernel[i, j] = ker(x_ax[i], x_ax[j])\n",
    "        \n",
    "#зададим правую часть\n",
    "right_part_l = lambda x: np.exp(x)\n",
    "right_part = np.exp(x_ax)\n",
    "\n",
    "#аналитическое решение\n",
    "analytical = 2*np.exp(x_ax) - 1"
   ]
  },
  {
   "cell_type": "code",
   "execution_count": null,
   "metadata": {},
   "outputs": [],
   "source": [
    "# #решим квадратурно\n",
    "# quad_solution = None\n",
    "# quad_solution, err_0 = volterra.quad_solve(right_part, kernel, iterations=11, analytical=analytical)\n",
    "# plt.figure(1)\n",
    "# # plt.subplot(1,2, 1)\n",
    "# plt.title(f'Решение квадратурным способом ({11} итераций)')\n",
    "# plt.plot(x_ax, quad_solution, label='численно')\n",
    "# plt.plot(x_ax, analytical, label='точное решение')\n",
    "# plt.legend()"
   ]
  },
  {
   "cell_type": "markdown",
   "metadata": {},
   "source": [
    "![Alt text](quad_11.png)"
   ]
  },
  {
   "cell_type": "code",
   "execution_count": null,
   "metadata": {},
   "outputs": [],
   "source": [
    "# #ошибка от числа итераций\n",
    "# quad_sol_0, quad_error = volterra.quad_solve(right_part, kernel, iterations=100, analytical=analytical)\n",
    "\n",
    "# # plt.subplot(1,2, 2)\n",
    "# plt.plot(range(100 + 1), quad_error)\n",
    "# plt.xlabel('итерация')\n",
    "# plt.ylabel('относительная ошибка')"
   ]
  },
  {
   "cell_type": "markdown",
   "metadata": {},
   "source": [
    "Из-за особенностей юпитера я прикреплю графики отдельно\n",
    "![Alt text](quad_iter_err.png)"
   ]
  },
  {
   "cell_type": "markdown",
   "metadata": {},
   "source": [
    "Наименьшая ошибка при 11-12 итерациях"
   ]
  },
  {
   "cell_type": "code",
   "execution_count": null,
   "metadata": {},
   "outputs": [],
   "source": [
    "# # Рассмотрим квадратурный метод, так как он реализован лучще всего.\n",
    "# # Зафиксируем число итераций, когда ошибка минимальна, будем добавлять шум с разным отклонением и смотреть на ошибку\n",
    "# # Будем менять отклонение в диапазоне от 0 до 0.1\n",
    "# n = 20\n",
    "# noise_error = np.empty(n)\n",
    "# for i in range(n):\n",
    "#     noise = np.random.normal(0,i*1e-1, len(right_part))\n",
    "#     quad_solution, err = volterra.quad_solve(right_part + noise, kernel, iterations=11, analytical=analytical)\n",
    "#     noise_error[i] = err[-1]\n",
    "\n",
    "# plt.figure(3)\n",
    "# plt.title('Ошибка от с.о. шума')\n",
    "# plt.plot([k*1e-1 for k in range(n)], noise_error)\n",
    "# plt.xlabel('с.о. шума')\n",
    "# plt.ylabel('относительная ошибка')\n",
    "\n",
    "# plt.show()"
   ]
  },
  {
   "cell_type": "markdown",
   "metadata": {},
   "source": [
    "Ошибка от с.о. шума для квадратурного метода для 11 итераций:\n",
    "![Alt text](quad_noise_err.png)"
   ]
  },
  {
   "cell_type": "markdown",
   "metadata": {},
   "source": [
    "Решим простыми итерациями"
   ]
  },
  {
   "cell_type": "code",
   "execution_count": null,
   "metadata": {},
   "outputs": [],
   "source": [
    "# #решим простыми итерациями\n",
    "# h = (x_ax[-1] - x_ax[0]) / len(x_ax)\n",
    "# iter_solution, _ = volterra.solve_iter(ker, right_part_l, x_ax, h)\n",
    "# plt.title('Решение простыми итерациями')\n",
    "# plt.plot(x_ax, iter_solution, label='численно')\n",
    "# plt.plot(x_ax, analytical, label='точное решение')\n",
    "# plt.legend()\n",
    "\n",
    "# # iterations = 10\n",
    "# # _, iter_error = volterra.iter_solve(right_part, kernel, iterations=iterations, analytical=analytical)\n",
    "# # plt.subplot(1,2,2)\n",
    "# # plt.plot(range(iterations + 1), iter_error)\n",
    "# # plt.xlabel('итерация')\n",
    "# # plt.ylabel('абсолютная ошибка')"
   ]
  },
  {
   "cell_type": "markdown",
   "metadata": {},
   "source": [
    "![Alt text](simple_iter.png)"
   ]
  }
 ],
 "metadata": {
  "kernelspec": {
   "display_name": "base",
   "language": "python",
   "name": "python3"
  },
  "language_info": {
   "codemirror_mode": {
    "name": "ipython",
    "version": 3
   },
   "file_extension": ".py",
   "mimetype": "text/x-python",
   "name": "python",
   "nbconvert_exporter": "python",
   "pygments_lexer": "ipython3",
   "version": "3.10.9"
  },
  "orig_nbformat": 4
 },
 "nbformat": 4,
 "nbformat_minor": 2
}
