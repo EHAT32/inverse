{
 "cells": [
  {
   "cell_type": "code",
   "execution_count": 61,
   "metadata": {},
   "outputs": [],
   "source": [
    "import numpy as np\n",
    "import find_alpha\n",
    "import matplotlib.pyplot as plt"
   ]
  },
  {
   "cell_type": "code",
   "execution_count": 62,
   "metadata": {},
   "outputs": [],
   "source": [
    "f_0 = 300\n",
    "mu = 8e5\n",
    "a = 0\n",
    "b = 1e-2\n",
    "N = 100\n",
    "t_ax = np.linspace(a,b,N)\n",
    "\n",
    "x_t = lambda t : np.cos(2 * np.pi * f_0 * t + mu * t**2)\n",
    "\n",
    "beta_0 = 3e3\n",
    "A = 0.5\n",
    "dt = 2e-3\n",
    "\n",
    "kernel = lambda t, beta : np.exp(- beta * t) + A * np.exp(- beta * t - dt)\n",
    "\n",
    "kernel_0 = kernel(t_ax, beta_0)\n",
    "kernel_5 = kernel(t_ax, beta_0 * 1.05)\n",
    "kernel_10 = kernel(t_ax, beta_0 * 0.9)"
   ]
  },
  {
   "cell_type": "code",
   "execution_count": 63,
   "metadata": {},
   "outputs": [],
   "source": [
    "def conv(kernel, func):\n",
    "    result = np.zeros(len(func))\n",
    "    F = np.flip(func, 0)\n",
    "    for i in range(len(func)):\n",
    "        result[i] = np.sum(kernel * np.roll(F, i + 1))\n",
    "    return result"
   ]
  },
  {
   "cell_type": "code",
   "execution_count": 64,
   "metadata": {},
   "outputs": [],
   "source": [
    "right_part = find_alpha.conv(kernel_0, x_t(t_ax))\n",
    "kernel_fft = np.fft.fft(kernel_5)\n",
    "m_omega = lambda omega: omega ** 2 + 1e-4\n",
    "freq_ax = np.fft.fftfreq(len(t_ax), t_ax[1] - t_ax[0])\n",
    "m_ar = m_omega(freq_ax)"
   ]
  },
  {
   "cell_type": "code",
   "execution_count": 65,
   "metadata": {},
   "outputs": [],
   "source": [
    "#методом приращений\n",
    "sigma = 1e-1\n",
    "N = 1000\n",
    "epoch = 1000\n",
    "alpha_range = np.linspace(1e-14, 1e-13, N)\n",
    "alpha_opt = np.zeros(epoch)\n",
    "for i in range(epoch):\n",
    "    sol_ar = np.zeros((N, len(t_ax)))\n",
    "    noise = np.random.normal(0, sigma)\n",
    "    right_noisy = right_part + noise\n",
    "    right_fft = np.fft.fft(right_noisy)\n",
    "    for j in range(N):\n",
    "        sol_ar[j] = find_alpha.fourier_solve(kernel_fft, right_fft, m_ar, alpha_range[j])\n",
    "    sol_ar = np.diff(sol_ar, axis=0)\n",
    "    sol_ar = np.linalg.norm(sol_ar, axis=1)\n",
    "    alpha_opt[i] = alpha_range[np.argmin(sol_ar)]"
   ]
  },
  {
   "cell_type": "code",
   "execution_count": 66,
   "metadata": {},
   "outputs": [
    {
     "data": {
      "text/plain": [
       "(array([  3.,   5.,   9.,   4.,  22.,  40.,  60., 185., 411., 261.]),\n",
       " array([7.57657658e-14, 7.81801802e-14, 8.05945946e-14, 8.30090090e-14,\n",
       "        8.54234234e-14, 8.78378378e-14, 9.02522523e-14, 9.26666667e-14,\n",
       "        9.50810811e-14, 9.74954955e-14, 9.99099099e-14]),\n",
       " <BarContainer object of 10 artists>)"
      ]
     },
     "execution_count": 66,
     "metadata": {},
     "output_type": "execute_result"
    },
    {
     "data": {
      "image/png": "[encoded data removed]",
      "text/plain": [
       "<Figure size 640x480 with 1 Axes>"
      ]
     },
     "metadata": {},
     "output_type": "display_data"
    }
   ],
   "source": [
    "plt.hist(alpha_opt)"
   ]
  }
 ],
 "metadata": {
  "kernelspec": {
   "display_name": "base",
   "language": "python",
   "name": "python3"
  },
  "language_info": {
   "codemirror_mode": {
    "name": "ipython",
    "version": 3
   },
   "file_extension": ".py",
   "mimetype": "text/x-python",
   "name": "python",
   "nbconvert_exporter": "python",
   "pygments_lexer": "ipython3",
   "version": "3.10.9"
  }
 },
 "nbformat": 4,
 "nbformat_minor": 2
}
