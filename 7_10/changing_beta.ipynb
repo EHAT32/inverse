{
 "cells": [
  {
   "cell_type": "code",
   "execution_count": null,
   "metadata": {},
   "outputs": [],
   "source": [
    "import numpy as np\n",
    "import find_alpha"
   ]
  },
  {
   "cell_type": "code",
   "execution_count": null,
   "metadata": {},
   "outputs": [],
   "source": [
    "f_0 = 300\n",
    "mu = 8e5\n",
    "a = 0\n",
    "b = 1e-2\n",
    "N = 100\n",
    "t_ax = np.linspace(a,b,N)\n",
    "\n",
    "x_t = lambda t : np.cos(2 * np.pi * f_0 * t + mu * t**2)\n",
    "\n",
    "beta_0 = 3e3\n",
    "A = 0.5\n",
    "dt = 2e-3\n",
    "\n",
    "kernel = lambda t, beta : np.exp(- beta * t) + A * np.exp(- beta * t - dt)\n",
    "\n",
    "kernel_0 = kernel(t_ax, beta_0)\n",
    "kernel_5 = kernel(t_ax, beta_0 * 1.05)\n",
    "kernel_10 = kernel(t_ax, beta_0 * 0.9)"
   ]
  },
  {
   "cell_type": "code",
   "execution_count": null,
   "metadata": {},
   "outputs": [],
   "source": [
    "def conv(kernel, func):\n",
    "    result = np.zeros(len(func))\n",
    "    F = np.flip(func, 0)\n",
    "    for i in range(len(func)):\n",
    "        result[i] = np.sum(kernel * np.roll(F, i + 1))\n",
    "    return result"
   ]
  },
  {
   "cell_type": "code",
   "execution_count": null,
   "metadata": {},
   "outputs": [],
   "source": [
    "right_part = find_alpha.conv(kernel_0, x_t(t_ax))\n",
    "kernel_fft = np.fft.fft(kernel_5)\n",
    "m_omega = lambda omega: omega ** 2 + 1e-4\n",
    "freq_ax = np.fft.fftfreq(len(t_ax), t_ax[1] - t_ax[0])\n",
    "m_ar = m_omega(freq_ax)"
   ]
  },
  {
   "cell_type": "code",
   "execution_count": null,
   "metadata": {},
   "outputs": [],
   "source": [
    "#методом приращений\n",
    "sigma = 7e-2\n",
    "N = 100\n",
    "epoch = 1000\n",
    "alpha_range = np.linspace(1e-11, 1e-8, N)\n",
    "alpha_opt = np.zeros(epoch)\n",
    "for i in range(epoch):\n",
    "    sol_ar = np.zeros((N, len(t_ax)))\n",
    "    noise = np.random.normal(0, sigma)\n",
    "    right_noisy = right_part + noise\n",
    "    right_fft = np.fft.fft(right_noisy)\n",
    "    for j in range(N):\n",
    "        sol_ar[j] = find_alpha.fourier_solve(kernel_fft, right_fft, )"
   ]
  }
 ],
 "metadata": {
  "language_info": {
   "name": "python"
  }
 },
 "nbformat": 4,
 "nbformat_minor": 2
}
