{
 "cells": [
  {
   "cell_type": "code",
   "execution_count": 59,
   "metadata": {},
   "outputs": [],
   "source": [
    "import numpy as np\n",
    "from scipy import signal"
   ]
  },
  {
   "cell_type": "markdown",
   "metadata": {},
   "source": [
    "# Часть первая"
   ]
  },
  {
   "cell_type": "markdown",
   "metadata": {},
   "source": [
    "### Реализовать ```adaptrls```"
   ]
  },
  {
   "cell_type": "code",
   "execution_count": 60,
   "metadata": {},
   "outputs": [],
   "source": [
    "def adaptrls(x : np.ndarray, d : np.ndarray, p : int = 16, Lambda : int = 1, alpha : float = 1e4):\n",
    "    N = len(x) - p\n",
    "    w = np.zeros(p)\n",
    "    y = np.zeros(N)\n",
    "    e = np.zeros(N)\n",
    "    R_inv = alpha * np.eye(p)\n",
    "    for k in range(N):\n",
    "        xx = np.array([x[k + p - 1 - i] for i in range(p)])\n",
    "        y[k] = np.dot(xx.T, w)\n",
    "        e[k] = d[k + p - 1] - y[k]\n",
    "        K = (np.dot(R_inv, xx)) / (Lambda + np.dot(np.dot(xx.T, R_inv), xx))\n",
    "        R_inv = (R_inv - np.dot(np.outer(K, xx.T), R_inv)) / Lambda\n",
    "        w = w + K * e[k]\n",
    "    return w, e"
   ]
  },
  {
   "cell_type": "markdown",
   "metadata": {},
   "source": [
    "### Сгенерировать вектор характеристик, случ. вектор x, получить выходной вектор"
   ]
  },
  {
   "cell_type": "code",
   "execution_count": 61,
   "metadata": {},
   "outputs": [],
   "source": [
    "p = 10\n",
    "N = 400\n",
    "h = np.random.normal(1, 2, p)\n",
    "x = np.random.normal(0, 0.5, N)\n",
    "x = np.hstack((np.zeros(p - 1), x))\n",
    "\n",
    "d = signal.lfilter(h, 1, x)"
   ]
  },
  {
   "cell_type": "code",
   "execution_count": 62,
   "metadata": {},
   "outputs": [],
   "source": [
    "w, e = adaptrls(x, d, p)"
   ]
  },
  {
   "cell_type": "code",
   "execution_count": 63,
   "metadata": {},
   "outputs": [
    {
     "name": "stdout",
     "output_type": "stream",
     "text": [
      "[ 5.3226018  -0.35159163  1.2013422   0.95922678  1.90179507  1.02457197\n",
      " -1.14875994  1.69199431 -0.98632209  3.57772554]\n",
      "[ 5.32259612 -0.3515911   1.20134146  0.95922571  1.90179311  1.02457127\n",
      " -1.14875863  1.69199269 -0.98632093  3.57772183]\n"
     ]
    }
   ],
   "source": [
    "print(h)\n",
    "print(w)\n",
    "print(e)"
   ]
  }
 ],
 "metadata": {
  "kernelspec": {
   "display_name": "base",
   "language": "python",
   "name": "python3"
  },
  "language_info": {
   "codemirror_mode": {
    "name": "ipython",
    "version": 3
   },
   "file_extension": ".py",
   "mimetype": "text/x-python",
   "name": "python",
   "nbconvert_exporter": "python",
   "pygments_lexer": "ipython3",
   "version": "3.10.13"
  }
 },
 "nbformat": 4,
 "nbformat_minor": 2
}
