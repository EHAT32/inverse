{
 "cells": [
  {
   "cell_type": "markdown",
   "metadata": {},
   "source": [
    "Сделаем аналогичное задание, только для уравнения Фредгольма второго рода"
   ]
  },
  {
   "cell_type": "markdown",
   "metadata": {},
   "source": [
    "$$y(x) - \\int\\limits_0^1 e^{(x - t)} y(t) dt = e^x$$"
   ]
  },
  {
   "cell_type": "markdown",
   "metadata": {},
   "source": [
    "Аналит. решение:\n",
    "\n",
    "$$y(x) = e^x + (A_1 e^x + A_2)$$\n",
    "\n",
    "Где $$A_1  = \\dfrac{f_1}{- \\Delta_1 + 1}$$\n",
    "\n",
    "$$A_2 = 0$$\n",
    "\n",
    "\n"
   ]
  }
 ],
 "metadata": {
  "language_info": {
   "name": "python"
  },
  "orig_nbformat": 4
 },
 "nbformat": 4,
 "nbformat_minor": 2
}
