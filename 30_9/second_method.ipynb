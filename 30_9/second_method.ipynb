{
 "cells": [
  {
   "cell_type": "code",
   "execution_count": 2,
   "metadata": {},
   "outputs": [],
   "source": [
    "import numpy as np\n",
    "import matplotlib.pyplot as plt\n",
    "import find_alpha"
   ]
  },
  {
   "cell_type": "markdown",
   "metadata": {},
   "source": [
    "Реализуем второй метод для нахождения оптимального $\\alpha$: минимизация обобщённой невязки"
   ]
  },
  {
   "cell_type": "markdown",
   "metadata": {},
   "source": [
    "С известной $\\sigma$"
   ]
  },
  {
   "cell_type": "code",
   "execution_count": 3,
   "metadata": {},
   "outputs": [],
   "source": [
    "f_0 = 300\n",
    "mu = 8e5\n",
    "a = 0\n",
    "b = 1e-2\n",
    "N = 100\n",
    "t_ax = np.linspace(a,b,N)\n",
    "\n",
    "x_t = lambda t : np.cos(2 * np.pi * f_0 * t + mu * t**2)\n",
    "\n",
    "beta = 3e3\n",
    "A = 0.5\n",
    "dt = 2e-3\n",
    "\n",
    "kernel = lambda t : np.exp(- beta * t) + A * np.exp(- beta * t - dt)"
   ]
  },
  {
   "cell_type": "code",
   "execution_count": null,
   "metadata": {},
   "outputs": [],
   "source": [
    "f_t = find_alpha.conv(kernel, x_t, t_ax)"
   ]
  },
  {
   "cell_type": "code",
   "execution_count": null,
   "metadata": {},
   "outputs": [],
   "source": [
    "sigma = 7e-2\n",
    "\n",
    "noise = np.random.normal(0, sigma, len(f_t))\n",
    "f_d = f_t + noise"
   ]
  },
  {
   "cell_type": "code",
   "execution_count": null,
   "metadata": {},
   "outputs": [],
   "source": [
    "#Фурье от правой части:\n",
    "F_d = np.fft.fft(f_d)\n",
    "kernel_ar = kernel(t_ax)\n",
    "kernel_fft = np.fft.fft(kernel_ar)\n",
    "m_omega = lambda omega: omega ** 2 + 1e-4\n",
    "freq_ax = np.fft.fftfreq(len(t_ax), t_ax[1] - t_ax[0])"
   ]
  }
 ],
 "metadata": {
  "kernelspec": {
   "display_name": "base",
   "language": "python",
   "name": "python3"
  },
  "language_info": {
   "codemirror_mode": {
    "name": "ipython",
    "version": 3
   },
   "file_extension": ".py",
   "mimetype": "text/x-python",
   "name": "python",
   "nbconvert_exporter": "python",
   "pygments_lexer": "ipython3",
   "version": "3.8.16"
  },
  "orig_nbformat": 4
 },
 "nbformat": 4,
 "nbformat_minor": 2
}
